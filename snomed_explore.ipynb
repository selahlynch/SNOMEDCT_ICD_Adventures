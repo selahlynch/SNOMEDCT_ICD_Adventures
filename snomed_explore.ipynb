{
 "cells": [
  {
   "cell_type": "code",
   "execution_count": 1,
   "metadata": {},
   "outputs": [
    {
     "name": "stdout",
     "output_type": "stream",
     "text": [
      "/home/selah/Data/SnomedCT/SnomedCT_InternationalRF2_PRODUCTION_20180731T120000Z/Snapshot\n"
     ]
    }
   ],
   "source": [
    "import pandas as pd\n",
    "import numpy as np\n",
    "#snomed_dir = \"/Users/selah/Data/SnomedCT_InternationalRF2_PRODUCTION_20180731T120000Z/Snapshot/\"\n",
    "snomed_dir = \"/home/selah/Data/SnomedCT/SnomedCT_InternationalRF2_PRODUCTION_20180731T120000Z/Snapshot/\"\n",
    "%cd $snomed_dir"
   ]
  },
  {
   "cell_type": "code",
   "execution_count": 2,
   "metadata": {
    "collapsed": true
   },
   "outputs": [],
   "source": [
    "columns = lambda f: pd.Series(pd.read_csv(f, sep='\\t', nrows=0).columns)\n",
    "see_sample = lambda f: pd.read_csv(f, sep='\\t').sample(5)\n",
    "import glob\n",
    "filenames = glob.glob( '**/*.txt', recursive=True)"
   ]
  },
  {
   "cell_type": "code",
   "execution_count": 3,
   "metadata": {},
   "outputs": [
    {
     "name": "stdout",
     "output_type": "stream",
     "text": [
      "Refset/Map/der2_sRefset_SimpleMapSnapshot_INT_20180731.txt\n",
      "Refset/Map/der2_iisssccRefset_ExtendedMapSnapshot_INT_20180731.txt\n",
      "Refset/Content/der2_Refset_SimpleSnapshot_INT_20180731.txt\n",
      "Refset/Content/der2_cRefset_AssociationSnapshot_INT_20180731.txt\n",
      "Refset/Content/der2_cRefset_AttributeValueSnapshot_INT_20180731.txt\n",
      "Refset/Language/der2_cRefset_LanguageSnapshot-en_INT_20180731.txt\n",
      "Refset/Metadata/der2_cciRefset_RefsetDescriptorSnapshot_INT_20180731.txt\n",
      "Refset/Metadata/der2_ciRefset_DescriptionTypeSnapshot_INT_20180731.txt\n",
      "Refset/Metadata/der2_ssccRefset_MRCMAttributeRangeSnapshot_INT_20180731.txt\n",
      "Refset/Metadata/der2_ssRefset_ModuleDependencySnapshot_INT_20180731.txt\n",
      "Refset/Metadata/der2_cRefset_MRCMModuleScopeSnapshot_INT_20180731.txt\n",
      "Refset/Metadata/der2_cissccRefset_MRCMAttributeDomainSnapshot_INT_20180731.txt\n",
      "Refset/Metadata/der2_sssssssRefset_MRCMDomainSnapshot_INT_20180731.txt\n",
      "Terminology/sct2_Description_Snapshot-en_INT_20180731.txt\n",
      "Terminology/sct2_Identifier_Snapshot_INT_20180731.txt\n",
      "Terminology/sct2_sRefset_OWLOntologySnapshot_INT_20180731.txt\n",
      "Terminology/sct2_Concept_Snapshot_INT_20180731.txt\n",
      "Terminology/sct2_Relationship_Snapshot_INT_20180731.txt\n",
      "Terminology/sct2_TextDefinition_Snapshot-en_INT_20180731.txt\n",
      "Terminology/sct2_sRefset_OWLAxiomSnapshot_INT_20180731.txt\n",
      "Terminology/sct2_StatedRelationship_Snapshot_INT_20180731.txt\n"
     ]
    }
   ],
   "source": [
    "#read all files into dataframes\n",
    "dataframes = {}\n",
    "for file in filenames:\n",
    "    print(file)\n",
    "    df = pd.read_csv(file, sep='\\t')\n",
    "    dataframes[file]=df"
   ]
  },
  {
   "cell_type": "code",
   "execution_count": 4,
   "metadata": {},
   "outputs": [
    {
     "data": {
      "text/plain": [
       "(21897009, 197480006)"
      ]
     },
     "execution_count": 4,
     "metadata": {},
     "output_type": "execute_result"
    }
   ],
   "source": [
    "dfrel = dataframes['Terminology/sct2_Relationship_Snapshot_INT_20180731.txt']\n",
    "dfdesc = dataframes['Terminology/sct2_Description_Snapshot-en_INT_20180731.txt']\n",
    "anxiety_code = 21897009\n",
    "anxiety_parent = 197480006\n",
    "\n",
    "def find_matching_rows(df, val):\n",
    "    return df[(df == val).sum(axis=1)>0]\n",
    "from IPython.display import display\n",
    "\n",
    "(anxiety_code, anxiety_parent)"
   ]
  },
  {
   "cell_type": "markdown",
   "metadata": {},
   "source": [
    "Start by only using \"Is a\" relationships (typeId=116680003)\n",
    "            \n",
    "Only use descriptions of type 900000000000003001, use first instance term, build and display a graph\n",
    "\n",
    "edge definitions in Terminology/sct2_Relationship\n",
    "node info in Terminology/sct2_Description"
   ]
  },
  {
   "cell_type": "markdown",
   "metadata": {},
   "source": [
    "## Descriptions for SnomedCT Anxiety disorder concept"
   ]
  },
  {
   "cell_type": "code",
   "execution_count": 5,
   "metadata": {},
   "outputs": [
    {
     "data": {
      "text/html": [
       "<div>\n",
       "<style scoped>\n",
       "    .dataframe tbody tr th:only-of-type {\n",
       "        vertical-align: middle;\n",
       "    }\n",
       "\n",
       "    .dataframe tbody tr th {\n",
       "        vertical-align: top;\n",
       "    }\n",
       "\n",
       "    .dataframe thead th {\n",
       "        text-align: right;\n",
       "    }\n",
       "</style>\n",
       "<table border=\"1\" class=\"dataframe\">\n",
       "  <thead>\n",
       "    <tr style=\"text-align: right;\">\n",
       "      <th></th>\n",
       "      <th>id</th>\n",
       "      <th>effectiveTime</th>\n",
       "      <th>active</th>\n",
       "      <th>moduleId</th>\n",
       "      <th>conceptId</th>\n",
       "      <th>languageCode</th>\n",
       "      <th>typeId</th>\n",
       "      <th>term</th>\n",
       "      <th>caseSignificanceId</th>\n",
       "    </tr>\n",
       "  </thead>\n",
       "  <tbody>\n",
       "    <tr>\n",
       "      <th>35559</th>\n",
       "      <td>36731013</td>\n",
       "      <td>20170731</td>\n",
       "      <td>1</td>\n",
       "      <td>900000000000207008</td>\n",
       "      <td>21897009</td>\n",
       "      <td>en</td>\n",
       "      <td>900000000000013009</td>\n",
       "      <td>Generalized anxiety disorder</td>\n",
       "      <td>900000000000448009</td>\n",
       "    </tr>\n",
       "    <tr>\n",
       "      <th>464285</th>\n",
       "      <td>481154010</td>\n",
       "      <td>20170731</td>\n",
       "      <td>1</td>\n",
       "      <td>900000000000207008</td>\n",
       "      <td>21897009</td>\n",
       "      <td>en</td>\n",
       "      <td>900000000000013009</td>\n",
       "      <td>Generalised anxiety disorder</td>\n",
       "      <td>900000000000448009</td>\n",
       "    </tr>\n",
       "    <tr>\n",
       "      <th>464286</th>\n",
       "      <td>481155011</td>\n",
       "      <td>20030731</td>\n",
       "      <td>1</td>\n",
       "      <td>900000000000207008</td>\n",
       "      <td>21897009</td>\n",
       "      <td>en</td>\n",
       "      <td>900000000000013009</td>\n",
       "      <td>GAD - Generalized anxiety disorder</td>\n",
       "      <td>900000000000017005</td>\n",
       "    </tr>\n",
       "    <tr>\n",
       "      <th>464287</th>\n",
       "      <td>481156012</td>\n",
       "      <td>20020131</td>\n",
       "      <td>1</td>\n",
       "      <td>900000000000207008</td>\n",
       "      <td>21897009</td>\n",
       "      <td>en</td>\n",
       "      <td>900000000000013009</td>\n",
       "      <td>GAD - Generalised anxiety disorder</td>\n",
       "      <td>900000000000017005</td>\n",
       "    </tr>\n",
       "    <tr>\n",
       "      <th>731798</th>\n",
       "      <td>751243014</td>\n",
       "      <td>20170731</td>\n",
       "      <td>1</td>\n",
       "      <td>900000000000207008</td>\n",
       "      <td>21897009</td>\n",
       "      <td>en</td>\n",
       "      <td>900000000000003001</td>\n",
       "      <td>Generalized anxiety disorder (disorder)</td>\n",
       "      <td>900000000000448009</td>\n",
       "    </tr>\n",
       "  </tbody>\n",
       "</table>\n",
       "</div>"
      ],
      "text/plain": [
       "               id  effectiveTime  active            moduleId  conceptId  \\\n",
       "35559    36731013       20170731       1  900000000000207008   21897009   \n",
       "464285  481154010       20170731       1  900000000000207008   21897009   \n",
       "464286  481155011       20030731       1  900000000000207008   21897009   \n",
       "464287  481156012       20020131       1  900000000000207008   21897009   \n",
       "731798  751243014       20170731       1  900000000000207008   21897009   \n",
       "\n",
       "       languageCode              typeId  \\\n",
       "35559            en  900000000000013009   \n",
       "464285           en  900000000000013009   \n",
       "464286           en  900000000000013009   \n",
       "464287           en  900000000000013009   \n",
       "731798           en  900000000000003001   \n",
       "\n",
       "                                           term  caseSignificanceId  \n",
       "35559              Generalized anxiety disorder  900000000000448009  \n",
       "464285             Generalised anxiety disorder  900000000000448009  \n",
       "464286       GAD - Generalized anxiety disorder  900000000000017005  \n",
       "464287       GAD - Generalised anxiety disorder  900000000000017005  \n",
       "731798  Generalized anxiety disorder (disorder)  900000000000448009  "
      ]
     },
     "execution_count": 5,
     "metadata": {},
     "output_type": "execute_result"
    }
   ],
   "source": [
    "dfdesc[dfdesc.conceptId==anxiety_code]"
   ]
  },
  {
   "cell_type": "markdown",
   "metadata": {},
   "source": [
    "## Different relationship types\n",
    "The code below convinces me that I should use 900000000000003001 aka the Fully Specified Name"
   ]
  },
  {
   "cell_type": "code",
   "execution_count": 6,
   "metadata": {},
   "outputs": [
    {
     "data": {
      "text/plain": [
       "900000000000013009    811239\n",
       "900000000000003001    594069\n",
       "Name: typeId, dtype: int64"
      ]
     },
     "execution_count": 6,
     "metadata": {},
     "output_type": "execute_result"
    }
   ],
   "source": [
    "dfdesc.typeId.value_counts()"
   ]
  },
  {
   "cell_type": "code",
   "execution_count": 7,
   "metadata": {},
   "outputs": [
    {
     "data": {
      "text/html": [
       "<div>\n",
       "<style scoped>\n",
       "    .dataframe tbody tr th:only-of-type {\n",
       "        vertical-align: middle;\n",
       "    }\n",
       "\n",
       "    .dataframe tbody tr th {\n",
       "        vertical-align: top;\n",
       "    }\n",
       "\n",
       "    .dataframe thead th {\n",
       "        text-align: right;\n",
       "    }\n",
       "</style>\n",
       "<table border=\"1\" class=\"dataframe\">\n",
       "  <thead>\n",
       "    <tr style=\"text-align: right;\">\n",
       "      <th></th>\n",
       "      <th>id</th>\n",
       "      <th>effectiveTime</th>\n",
       "      <th>active</th>\n",
       "      <th>moduleId</th>\n",
       "      <th>conceptId</th>\n",
       "      <th>languageCode</th>\n",
       "      <th>term</th>\n",
       "      <th>caseSignificanceId</th>\n",
       "    </tr>\n",
       "  </thead>\n",
       "  <tbody>\n",
       "    <tr>\n",
       "      <th>1405015</th>\n",
       "      <td>900000000000036016</td>\n",
       "      <td>20170731</td>\n",
       "      <td>1</td>\n",
       "      <td>900000000000012004</td>\n",
       "      <td>900000000000013009</td>\n",
       "      <td>en</td>\n",
       "      <td>Synonym (core metadata concept)</td>\n",
       "      <td>900000000000448009</td>\n",
       "    </tr>\n",
       "    <tr>\n",
       "      <th>1405016</th>\n",
       "      <td>900000000000037013</td>\n",
       "      <td>20170731</td>\n",
       "      <td>1</td>\n",
       "      <td>900000000000012004</td>\n",
       "      <td>900000000000013009</td>\n",
       "      <td>en</td>\n",
       "      <td>Synonym</td>\n",
       "      <td>900000000000448009</td>\n",
       "    </tr>\n",
       "  </tbody>\n",
       "</table>\n",
       "</div>"
      ],
      "text/plain": [
       "                         id  effectiveTime  active            moduleId  \\\n",
       "1405015  900000000000036016       20170731       1  900000000000012004   \n",
       "1405016  900000000000037013       20170731       1  900000000000012004   \n",
       "\n",
       "                  conceptId languageCode                             term  \\\n",
       "1405015  900000000000013009           en  Synonym (core metadata concept)   \n",
       "1405016  900000000000013009           en                          Synonym   \n",
       "\n",
       "         caseSignificanceId  \n",
       "1405015  900000000000448009  \n",
       "1405016  900000000000448009  "
      ]
     },
     "execution_count": 7,
     "metadata": {},
     "output_type": "execute_result"
    }
   ],
   "source": [
    "dfdesc[dfdesc.conceptId == 900000000000013009].drop('typeId', axis=1) #drop to avoid confusion"
   ]
  },
  {
   "cell_type": "code",
   "execution_count": 8,
   "metadata": {},
   "outputs": [
    {
     "data": {
      "text/html": [
       "<div>\n",
       "<style scoped>\n",
       "    .dataframe tbody tr th:only-of-type {\n",
       "        vertical-align: middle;\n",
       "    }\n",
       "\n",
       "    .dataframe tbody tr th {\n",
       "        vertical-align: top;\n",
       "    }\n",
       "\n",
       "    .dataframe thead th {\n",
       "        text-align: right;\n",
       "    }\n",
       "</style>\n",
       "<table border=\"1\" class=\"dataframe\">\n",
       "  <thead>\n",
       "    <tr style=\"text-align: right;\">\n",
       "      <th></th>\n",
       "      <th>id</th>\n",
       "      <th>effectiveTime</th>\n",
       "      <th>active</th>\n",
       "      <th>moduleId</th>\n",
       "      <th>conceptId</th>\n",
       "      <th>languageCode</th>\n",
       "      <th>term</th>\n",
       "      <th>caseSignificanceId</th>\n",
       "    </tr>\n",
       "  </thead>\n",
       "  <tbody>\n",
       "    <tr>\n",
       "      <th>1405002</th>\n",
       "      <td>900000000000007016</td>\n",
       "      <td>20170731</td>\n",
       "      <td>1</td>\n",
       "      <td>900000000000012004</td>\n",
       "      <td>900000000000003001</td>\n",
       "      <td>en</td>\n",
       "      <td>Fully specified name</td>\n",
       "      <td>900000000000448009</td>\n",
       "    </tr>\n",
       "    <tr>\n",
       "      <th>1405003</th>\n",
       "      <td>900000000000008014</td>\n",
       "      <td>20170731</td>\n",
       "      <td>1</td>\n",
       "      <td>900000000000012004</td>\n",
       "      <td>900000000000003001</td>\n",
       "      <td>en</td>\n",
       "      <td>Fully specified name (core metadata concept)</td>\n",
       "      <td>900000000000448009</td>\n",
       "    </tr>\n",
       "  </tbody>\n",
       "</table>\n",
       "</div>"
      ],
      "text/plain": [
       "                         id  effectiveTime  active            moduleId  \\\n",
       "1405002  900000000000007016       20170731       1  900000000000012004   \n",
       "1405003  900000000000008014       20170731       1  900000000000012004   \n",
       "\n",
       "                  conceptId languageCode  \\\n",
       "1405002  900000000000003001           en   \n",
       "1405003  900000000000003001           en   \n",
       "\n",
       "                                                 term  caseSignificanceId  \n",
       "1405002                          Fully specified name  900000000000448009  \n",
       "1405003  Fully specified name (core metadata concept)  900000000000448009  "
      ]
     },
     "execution_count": 8,
     "metadata": {},
     "output_type": "execute_result"
    }
   ],
   "source": [
    "dfdesc[dfdesc.conceptId == 900000000000003001].drop('typeId', axis=1) #keep"
   ]
  },
  {
   "cell_type": "markdown",
   "metadata": {},
   "source": [
    "## More stuff"
   ]
  },
  {
   "cell_type": "code",
   "execution_count": 9,
   "metadata": {},
   "outputs": [
    {
     "data": {
      "text/html": [
       "<div>\n",
       "<style scoped>\n",
       "    .dataframe tbody tr th:only-of-type {\n",
       "        vertical-align: middle;\n",
       "    }\n",
       "\n",
       "    .dataframe tbody tr th {\n",
       "        vertical-align: top;\n",
       "    }\n",
       "\n",
       "    .dataframe thead th {\n",
       "        text-align: right;\n",
       "    }\n",
       "</style>\n",
       "<table border=\"1\" class=\"dataframe\">\n",
       "  <thead>\n",
       "    <tr style=\"text-align: right;\">\n",
       "      <th></th>\n",
       "      <th>id</th>\n",
       "      <th>effectiveTime</th>\n",
       "      <th>active</th>\n",
       "      <th>moduleId</th>\n",
       "      <th>sourceId</th>\n",
       "      <th>destinationId</th>\n",
       "      <th>relationshipGroup</th>\n",
       "      <th>typeId</th>\n",
       "      <th>characteristicTypeId</th>\n",
       "      <th>modifierId</th>\n",
       "    </tr>\n",
       "  </thead>\n",
       "  <tbody>\n",
       "    <tr>\n",
       "      <th>180029</th>\n",
       "      <td>183776026</td>\n",
       "      <td>20020131</td>\n",
       "      <td>1</td>\n",
       "      <td>900000000000207008</td>\n",
       "      <td>21897009</td>\n",
       "      <td>197480006</td>\n",
       "      <td>0</td>\n",
       "      <td>116680003</td>\n",
       "      <td>900000000000011006</td>\n",
       "      <td>900000000000451002</td>\n",
       "    </tr>\n",
       "    <tr>\n",
       "      <th>1631704</th>\n",
       "      <td>2864813020</td>\n",
       "      <td>20180731</td>\n",
       "      <td>0</td>\n",
       "      <td>900000000000207008</td>\n",
       "      <td>21897009</td>\n",
       "      <td>48694002</td>\n",
       "      <td>0</td>\n",
       "      <td>363705008</td>\n",
       "      <td>900000000000011006</td>\n",
       "      <td>900000000000451002</td>\n",
       "    </tr>\n",
       "    <tr>\n",
       "      <th>2682144</th>\n",
       "      <td>9215412026</td>\n",
       "      <td>20180731</td>\n",
       "      <td>1</td>\n",
       "      <td>900000000000207008</td>\n",
       "      <td>21897009</td>\n",
       "      <td>285854004</td>\n",
       "      <td>0</td>\n",
       "      <td>363714003</td>\n",
       "      <td>900000000000011006</td>\n",
       "      <td>900000000000451002</td>\n",
       "    </tr>\n",
       "  </tbody>\n",
       "</table>\n",
       "</div>"
      ],
      "text/plain": [
       "                 id  effectiveTime  active            moduleId  sourceId  \\\n",
       "180029    183776026       20020131       1  900000000000207008  21897009   \n",
       "1631704  2864813020       20180731       0  900000000000207008  21897009   \n",
       "2682144  9215412026       20180731       1  900000000000207008  21897009   \n",
       "\n",
       "         destinationId  relationshipGroup     typeId  characteristicTypeId  \\\n",
       "180029       197480006                  0  116680003    900000000000011006   \n",
       "1631704       48694002                  0  363705008    900000000000011006   \n",
       "2682144      285854004                  0  363714003    900000000000011006   \n",
       "\n",
       "                 modifierId  \n",
       "180029   900000000000451002  \n",
       "1631704  900000000000451002  \n",
       "2682144  900000000000451002  "
      ]
     },
     "execution_count": 9,
     "metadata": {},
     "output_type": "execute_result"
    }
   ],
   "source": [
    "find_matching_rows(dfrel, anxiety_code)"
   ]
  },
  {
   "cell_type": "code",
   "execution_count": 10,
   "metadata": {},
   "outputs": [
    {
     "data": {
      "text/html": [
       "<div>\n",
       "<style scoped>\n",
       "    .dataframe tbody tr th:only-of-type {\n",
       "        vertical-align: middle;\n",
       "    }\n",
       "\n",
       "    .dataframe tbody tr th {\n",
       "        vertical-align: top;\n",
       "    }\n",
       "\n",
       "    .dataframe thead th {\n",
       "        text-align: right;\n",
       "    }\n",
       "</style>\n",
       "<table border=\"1\" class=\"dataframe\">\n",
       "  <thead>\n",
       "    <tr style=\"text-align: right;\">\n",
       "      <th></th>\n",
       "      <th>id</th>\n",
       "      <th>effectiveTime</th>\n",
       "      <th>active</th>\n",
       "      <th>moduleId</th>\n",
       "      <th>conceptId</th>\n",
       "      <th>languageCode</th>\n",
       "      <th>typeId</th>\n",
       "      <th>term</th>\n",
       "      <th>caseSignificanceId</th>\n",
       "    </tr>\n",
       "  </thead>\n",
       "  <tbody>\n",
       "    <tr>\n",
       "      <th>171320</th>\n",
       "      <td>181114011</td>\n",
       "      <td>20170731</td>\n",
       "      <td>1</td>\n",
       "      <td>900000000000012004</td>\n",
       "      <td>116680003</td>\n",
       "      <td>en</td>\n",
       "      <td>900000000000013009</td>\n",
       "      <td>Is a</td>\n",
       "      <td>900000000000448009</td>\n",
       "    </tr>\n",
       "    <tr>\n",
       "      <th>663639</th>\n",
       "      <td>680946014</td>\n",
       "      <td>20170731</td>\n",
       "      <td>1</td>\n",
       "      <td>900000000000012004</td>\n",
       "      <td>116680003</td>\n",
       "      <td>en</td>\n",
       "      <td>900000000000003001</td>\n",
       "      <td>Is a (attribute)</td>\n",
       "      <td>900000000000448009</td>\n",
       "    </tr>\n",
       "  </tbody>\n",
       "</table>\n",
       "</div>"
      ],
      "text/plain": [
       "               id  effectiveTime  active            moduleId  conceptId  \\\n",
       "171320  181114011       20170731       1  900000000000012004  116680003   \n",
       "663639  680946014       20170731       1  900000000000012004  116680003   \n",
       "\n",
       "       languageCode              typeId              term  caseSignificanceId  \n",
       "171320           en  900000000000013009              Is a  900000000000448009  \n",
       "663639           en  900000000000003001  Is a (attribute)  900000000000448009  "
      ]
     },
     "execution_count": 10,
     "metadata": {},
     "output_type": "execute_result"
    }
   ],
   "source": [
    "find_matching_rows(dfdesc, 116680003)"
   ]
  },
  {
   "cell_type": "code",
   "execution_count": 11,
   "metadata": {},
   "outputs": [
    {
     "data": {
      "text/html": [
       "<div>\n",
       "<style scoped>\n",
       "    .dataframe tbody tr th:only-of-type {\n",
       "        vertical-align: middle;\n",
       "    }\n",
       "\n",
       "    .dataframe tbody tr th {\n",
       "        vertical-align: top;\n",
       "    }\n",
       "\n",
       "    .dataframe thead th {\n",
       "        text-align: right;\n",
       "    }\n",
       "</style>\n",
       "<table border=\"1\" class=\"dataframe\">\n",
       "  <thead>\n",
       "    <tr style=\"text-align: right;\">\n",
       "      <th></th>\n",
       "      <th>id</th>\n",
       "      <th>effectiveTime</th>\n",
       "      <th>active</th>\n",
       "      <th>moduleId</th>\n",
       "      <th>conceptId</th>\n",
       "      <th>languageCode</th>\n",
       "      <th>typeId</th>\n",
       "      <th>term</th>\n",
       "      <th>caseSignificanceId</th>\n",
       "    </tr>\n",
       "  </thead>\n",
       "  <tbody>\n",
       "    <tr>\n",
       "      <th>468155</th>\n",
       "      <td>485024010</td>\n",
       "      <td>20170731</td>\n",
       "      <td>1</td>\n",
       "      <td>900000000000012004</td>\n",
       "      <td>363705008</td>\n",
       "      <td>en</td>\n",
       "      <td>900000000000013009</td>\n",
       "      <td>Has definitional manifestation</td>\n",
       "      <td>900000000000448009</td>\n",
       "    </tr>\n",
       "    <tr>\n",
       "      <th>743483</th>\n",
       "      <td>762929013</td>\n",
       "      <td>20170731</td>\n",
       "      <td>1</td>\n",
       "      <td>900000000000012004</td>\n",
       "      <td>363705008</td>\n",
       "      <td>en</td>\n",
       "      <td>900000000000003001</td>\n",
       "      <td>Has definitional manifestation (attribute)</td>\n",
       "      <td>900000000000448009</td>\n",
       "    </tr>\n",
       "  </tbody>\n",
       "</table>\n",
       "</div>"
      ],
      "text/plain": [
       "               id  effectiveTime  active            moduleId  conceptId  \\\n",
       "468155  485024010       20170731       1  900000000000012004  363705008   \n",
       "743483  762929013       20170731       1  900000000000012004  363705008   \n",
       "\n",
       "       languageCode              typeId  \\\n",
       "468155           en  900000000000013009   \n",
       "743483           en  900000000000003001   \n",
       "\n",
       "                                              term  caseSignificanceId  \n",
       "468155              Has definitional manifestation  900000000000448009  \n",
       "743483  Has definitional manifestation (attribute)  900000000000448009  "
      ]
     },
     "execution_count": 11,
     "metadata": {},
     "output_type": "execute_result"
    }
   ],
   "source": [
    "find_matching_rows(dfdesc, 363705008)"
   ]
  },
  {
   "cell_type": "code",
   "execution_count": 12,
   "metadata": {},
   "outputs": [
    {
     "data": {
      "text/html": [
       "<div>\n",
       "<style scoped>\n",
       "    .dataframe tbody tr th:only-of-type {\n",
       "        vertical-align: middle;\n",
       "    }\n",
       "\n",
       "    .dataframe tbody tr th {\n",
       "        vertical-align: top;\n",
       "    }\n",
       "\n",
       "    .dataframe thead th {\n",
       "        text-align: right;\n",
       "    }\n",
       "</style>\n",
       "<table border=\"1\" class=\"dataframe\">\n",
       "  <thead>\n",
       "    <tr style=\"text-align: right;\">\n",
       "      <th></th>\n",
       "      <th>id</th>\n",
       "      <th>effectiveTime</th>\n",
       "      <th>active</th>\n",
       "      <th>moduleId</th>\n",
       "      <th>conceptId</th>\n",
       "      <th>languageCode</th>\n",
       "      <th>typeId</th>\n",
       "      <th>term</th>\n",
       "      <th>caseSignificanceId</th>\n",
       "    </tr>\n",
       "  </thead>\n",
       "  <tbody>\n",
       "    <tr>\n",
       "      <th>468164</th>\n",
       "      <td>485033012</td>\n",
       "      <td>20170731</td>\n",
       "      <td>1</td>\n",
       "      <td>900000000000012004</td>\n",
       "      <td>363714003</td>\n",
       "      <td>en</td>\n",
       "      <td>900000000000013009</td>\n",
       "      <td>Interprets</td>\n",
       "      <td>900000000000448009</td>\n",
       "    </tr>\n",
       "    <tr>\n",
       "      <th>743492</th>\n",
       "      <td>762938010</td>\n",
       "      <td>20170731</td>\n",
       "      <td>1</td>\n",
       "      <td>900000000000012004</td>\n",
       "      <td>363714003</td>\n",
       "      <td>en</td>\n",
       "      <td>900000000000003001</td>\n",
       "      <td>Interprets (attribute)</td>\n",
       "      <td>900000000000448009</td>\n",
       "    </tr>\n",
       "  </tbody>\n",
       "</table>\n",
       "</div>"
      ],
      "text/plain": [
       "               id  effectiveTime  active            moduleId  conceptId  \\\n",
       "468164  485033012       20170731       1  900000000000012004  363714003   \n",
       "743492  762938010       20170731       1  900000000000012004  363714003   \n",
       "\n",
       "       languageCode              typeId                    term  \\\n",
       "468164           en  900000000000013009              Interprets   \n",
       "743492           en  900000000000003001  Interprets (attribute)   \n",
       "\n",
       "        caseSignificanceId  \n",
       "468164  900000000000448009  \n",
       "743492  900000000000448009  "
      ]
     },
     "execution_count": 12,
     "metadata": {},
     "output_type": "execute_result"
    }
   ],
   "source": [
    "find_matching_rows(dfdesc, 363714003)"
   ]
  },
  {
   "cell_type": "code",
   "execution_count": 13,
   "metadata": {},
   "outputs": [
    {
     "data": {
      "text/html": [
       "<div>\n",
       "<style scoped>\n",
       "    .dataframe tbody tr th:only-of-type {\n",
       "        vertical-align: middle;\n",
       "    }\n",
       "\n",
       "    .dataframe tbody tr th {\n",
       "        vertical-align: top;\n",
       "    }\n",
       "\n",
       "    .dataframe thead th {\n",
       "        text-align: right;\n",
       "    }\n",
       "</style>\n",
       "<table border=\"1\" class=\"dataframe\">\n",
       "  <thead>\n",
       "    <tr style=\"text-align: right;\">\n",
       "      <th></th>\n",
       "      <th>id</th>\n",
       "      <th>effectiveTime</th>\n",
       "      <th>active</th>\n",
       "      <th>moduleId</th>\n",
       "      <th>conceptId</th>\n",
       "      <th>languageCode</th>\n",
       "      <th>typeId</th>\n",
       "      <th>term</th>\n",
       "      <th>caseSignificanceId</th>\n",
       "    </tr>\n",
       "  </thead>\n",
       "  <tbody>\n",
       "    <tr>\n",
       "      <th>1405061</th>\n",
       "      <td>900000000000966013</td>\n",
       "      <td>20170731</td>\n",
       "      <td>1</td>\n",
       "      <td>900000000000012004</td>\n",
       "      <td>900000000000448009</td>\n",
       "      <td>en</td>\n",
       "      <td>900000000000013009</td>\n",
       "      <td>Entire term case insensitive</td>\n",
       "      <td>900000000000448009</td>\n",
       "    </tr>\n",
       "    <tr>\n",
       "      <th>1405062</th>\n",
       "      <td>900000000000967016</td>\n",
       "      <td>20170731</td>\n",
       "      <td>1</td>\n",
       "      <td>900000000000012004</td>\n",
       "      <td>900000000000448009</td>\n",
       "      <td>en</td>\n",
       "      <td>900000000000003001</td>\n",
       "      <td>Entire term case insensitive (core metadata co...</td>\n",
       "      <td>900000000000448009</td>\n",
       "    </tr>\n",
       "    <tr>\n",
       "      <th>1405063</th>\n",
       "      <td>900000000000968014</td>\n",
       "      <td>20170731</td>\n",
       "      <td>1</td>\n",
       "      <td>900000000000012004</td>\n",
       "      <td>900000000000448009</td>\n",
       "      <td>en</td>\n",
       "      <td>900000000000013009</td>\n",
       "      <td>Case insensitive</td>\n",
       "      <td>900000000000448009</td>\n",
       "    </tr>\n",
       "  </tbody>\n",
       "</table>\n",
       "</div>"
      ],
      "text/plain": [
       "                         id  effectiveTime  active            moduleId  \\\n",
       "1405061  900000000000966013       20170731       1  900000000000012004   \n",
       "1405062  900000000000967016       20170731       1  900000000000012004   \n",
       "1405063  900000000000968014       20170731       1  900000000000012004   \n",
       "\n",
       "                  conceptId languageCode              typeId  \\\n",
       "1405061  900000000000448009           en  900000000000013009   \n",
       "1405062  900000000000448009           en  900000000000003001   \n",
       "1405063  900000000000448009           en  900000000000013009   \n",
       "\n",
       "                                                      term  caseSignificanceId  \n",
       "1405061                       Entire term case insensitive  900000000000448009  \n",
       "1405062  Entire term case insensitive (core metadata co...  900000000000448009  \n",
       "1405063                                   Case insensitive  900000000000448009  "
      ]
     },
     "execution_count": 13,
     "metadata": {},
     "output_type": "execute_result"
    }
   ],
   "source": [
    "dfdesc[dfdesc.conceptId==900000000000448009]"
   ]
  },
  {
   "cell_type": "code",
   "execution_count": 14,
   "metadata": {},
   "outputs": [
    {
     "data": {
      "text/html": [
       "<div>\n",
       "<style scoped>\n",
       "    .dataframe tbody tr th:only-of-type {\n",
       "        vertical-align: middle;\n",
       "    }\n",
       "\n",
       "    .dataframe tbody tr th {\n",
       "        vertical-align: top;\n",
       "    }\n",
       "\n",
       "    .dataframe thead th {\n",
       "        text-align: right;\n",
       "    }\n",
       "</style>\n",
       "<table border=\"1\" class=\"dataframe\">\n",
       "  <thead>\n",
       "    <tr style=\"text-align: right;\">\n",
       "      <th></th>\n",
       "      <th>id</th>\n",
       "      <th>effectiveTime</th>\n",
       "      <th>active</th>\n",
       "      <th>moduleId</th>\n",
       "      <th>conceptId</th>\n",
       "      <th>languageCode</th>\n",
       "      <th>typeId</th>\n",
       "      <th>term</th>\n",
       "      <th>caseSignificanceId</th>\n",
       "    </tr>\n",
       "  </thead>\n",
       "  <tbody>\n",
       "    <tr>\n",
       "      <th>1405015</th>\n",
       "      <td>900000000000036016</td>\n",
       "      <td>20170731</td>\n",
       "      <td>1</td>\n",
       "      <td>900000000000012004</td>\n",
       "      <td>900000000000013009</td>\n",
       "      <td>en</td>\n",
       "      <td>900000000000003001</td>\n",
       "      <td>Synonym (core metadata concept)</td>\n",
       "      <td>900000000000448009</td>\n",
       "    </tr>\n",
       "    <tr>\n",
       "      <th>1405016</th>\n",
       "      <td>900000000000037013</td>\n",
       "      <td>20170731</td>\n",
       "      <td>1</td>\n",
       "      <td>900000000000012004</td>\n",
       "      <td>900000000000013009</td>\n",
       "      <td>en</td>\n",
       "      <td>900000000000013009</td>\n",
       "      <td>Synonym</td>\n",
       "      <td>900000000000448009</td>\n",
       "    </tr>\n",
       "  </tbody>\n",
       "</table>\n",
       "</div>"
      ],
      "text/plain": [
       "                         id  effectiveTime  active            moduleId  \\\n",
       "1405015  900000000000036016       20170731       1  900000000000012004   \n",
       "1405016  900000000000037013       20170731       1  900000000000012004   \n",
       "\n",
       "                  conceptId languageCode              typeId  \\\n",
       "1405015  900000000000013009           en  900000000000003001   \n",
       "1405016  900000000000013009           en  900000000000013009   \n",
       "\n",
       "                                    term  caseSignificanceId  \n",
       "1405015  Synonym (core metadata concept)  900000000000448009  \n",
       "1405016                          Synonym  900000000000448009  "
      ]
     },
     "execution_count": 14,
     "metadata": {},
     "output_type": "execute_result"
    }
   ],
   "source": [
    "dfdesc[dfdesc.conceptId==900000000000013009]"
   ]
  },
  {
   "cell_type": "code",
   "execution_count": 15,
   "metadata": {},
   "outputs": [
    {
     "name": "stdout",
     "output_type": "stream",
     "text": [
      "Refset/Map/der2_sRefset_SimpleMapSnapshot_INT_20180731.txt\n",
      "1\n",
      "\n",
      "\n",
      "Refset/Map/der2_iisssccRefset_ExtendedMapSnapshot_INT_20180731.txt\n",
      "1\n",
      "\n",
      "\n",
      "Refset/Content/der2_Refset_SimpleSnapshot_INT_20180731.txt\n",
      "0\n",
      "\n",
      "\n",
      "Refset/Content/der2_cRefset_AssociationSnapshot_INT_20180731.txt\n",
      "1\n",
      "\n",
      "\n",
      "Refset/Content/der2_cRefset_AttributeValueSnapshot_INT_20180731.txt\n",
      "0\n",
      "\n",
      "\n",
      "Refset/Language/der2_cRefset_LanguageSnapshot-en_INT_20180731.txt\n",
      "0\n",
      "\n",
      "\n",
      "Refset/Metadata/der2_cciRefset_RefsetDescriptorSnapshot_INT_20180731.txt\n",
      "0\n",
      "\n",
      "\n",
      "Refset/Metadata/der2_ciRefset_DescriptionTypeSnapshot_INT_20180731.txt\n",
      "0\n",
      "\n",
      "\n",
      "Refset/Metadata/der2_ssccRefset_MRCMAttributeRangeSnapshot_INT_20180731.txt\n",
      "0\n",
      "\n",
      "\n",
      "Refset/Metadata/der2_ssRefset_ModuleDependencySnapshot_INT_20180731.txt\n",
      "0\n",
      "\n",
      "\n",
      "Refset/Metadata/der2_cRefset_MRCMModuleScopeSnapshot_INT_20180731.txt\n",
      "0\n",
      "\n",
      "\n",
      "Refset/Metadata/der2_cissccRefset_MRCMAttributeDomainSnapshot_INT_20180731.txt\n",
      "0\n",
      "\n",
      "\n",
      "Refset/Metadata/der2_sssssssRefset_MRCMDomainSnapshot_INT_20180731.txt\n",
      "0\n",
      "\n",
      "\n",
      "Terminology/sct2_Description_Snapshot-en_INT_20180731.txt\n",
      "1\n",
      "\n",
      "\n",
      "Terminology/sct2_Identifier_Snapshot_INT_20180731.txt\n",
      "nan\n",
      "\n",
      "\n",
      "Terminology/sct2_sRefset_OWLOntologySnapshot_INT_20180731.txt\n",
      "0\n",
      "\n",
      "\n",
      "Terminology/sct2_Concept_Snapshot_INT_20180731.txt\n",
      "1\n",
      "\n",
      "\n",
      "Terminology/sct2_Relationship_Snapshot_INT_20180731.txt\n",
      "2\n",
      "\n",
      "\n",
      "Terminology/sct2_TextDefinition_Snapshot-en_INT_20180731.txt\n",
      "0\n",
      "\n",
      "\n",
      "Terminology/sct2_sRefset_OWLAxiomSnapshot_INT_20180731.txt\n",
      "0\n",
      "\n",
      "\n",
      "Terminology/sct2_StatedRelationship_Snapshot_INT_20180731.txt\n",
      "2\n",
      "\n",
      "\n"
     ]
    }
   ],
   "source": [
    "#look for a line that contains both, aka a relationship\n",
    "for filepath in dataframes:\n",
    "    print(filepath)\n",
    "    df = dataframes[filepath]\n",
    "    dfmatch = df.isin([anxiety_code, anxiety_parent])\n",
    "    print(dfmatch.sum(axis=1).max())\n",
    "    print('\\n')"
   ]
  },
  {
   "cell_type": "code",
   "execution_count": 16,
   "metadata": {},
   "outputs": [
    {
     "data": {
      "text/plain": [
       "id                      0\n",
       "effectiveTime           0\n",
       "active                  0\n",
       "moduleId                0\n",
       "sourceId                3\n",
       "destinationId           0\n",
       "relationshipGroup       0\n",
       "typeId                  0\n",
       "characteristicTypeId    0\n",
       "modifierId              0\n",
       "dtype: int64"
      ]
     },
     "execution_count": 16,
     "metadata": {},
     "output_type": "execute_result"
    }
   ],
   "source": [
    "df = dataframes['Terminology/sct2_Relationship_Snapshot_INT_20180731.txt']\n",
    "(df == anxiety_code).sum()"
   ]
  },
  {
   "cell_type": "code",
   "execution_count": 17,
   "metadata": {},
   "outputs": [
    {
     "data": {
      "text/html": [
       "<div>\n",
       "<style scoped>\n",
       "    .dataframe tbody tr th:only-of-type {\n",
       "        vertical-align: middle;\n",
       "    }\n",
       "\n",
       "    .dataframe tbody tr th {\n",
       "        vertical-align: top;\n",
       "    }\n",
       "\n",
       "    .dataframe thead th {\n",
       "        text-align: right;\n",
       "    }\n",
       "</style>\n",
       "<table border=\"1\" class=\"dataframe\">\n",
       "  <thead>\n",
       "    <tr style=\"text-align: right;\">\n",
       "      <th></th>\n",
       "      <th>id</th>\n",
       "      <th>effectiveTime</th>\n",
       "      <th>active</th>\n",
       "      <th>moduleId</th>\n",
       "      <th>sourceId</th>\n",
       "      <th>destinationId</th>\n",
       "      <th>relationshipGroup</th>\n",
       "      <th>typeId</th>\n",
       "      <th>characteristicTypeId</th>\n",
       "      <th>modifierId</th>\n",
       "    </tr>\n",
       "  </thead>\n",
       "  <tbody>\n",
       "    <tr>\n",
       "      <th>180029</th>\n",
       "      <td>183776026</td>\n",
       "      <td>20020131</td>\n",
       "      <td>1</td>\n",
       "      <td>900000000000207008</td>\n",
       "      <td>21897009</td>\n",
       "      <td>197480006</td>\n",
       "      <td>0</td>\n",
       "      <td>116680003</td>\n",
       "      <td>900000000000011006</td>\n",
       "      <td>900000000000451002</td>\n",
       "    </tr>\n",
       "    <tr>\n",
       "      <th>1631704</th>\n",
       "      <td>2864813020</td>\n",
       "      <td>20180731</td>\n",
       "      <td>0</td>\n",
       "      <td>900000000000207008</td>\n",
       "      <td>21897009</td>\n",
       "      <td>48694002</td>\n",
       "      <td>0</td>\n",
       "      <td>363705008</td>\n",
       "      <td>900000000000011006</td>\n",
       "      <td>900000000000451002</td>\n",
       "    </tr>\n",
       "    <tr>\n",
       "      <th>2682144</th>\n",
       "      <td>9215412026</td>\n",
       "      <td>20180731</td>\n",
       "      <td>1</td>\n",
       "      <td>900000000000207008</td>\n",
       "      <td>21897009</td>\n",
       "      <td>285854004</td>\n",
       "      <td>0</td>\n",
       "      <td>363714003</td>\n",
       "      <td>900000000000011006</td>\n",
       "      <td>900000000000451002</td>\n",
       "    </tr>\n",
       "  </tbody>\n",
       "</table>\n",
       "</div>"
      ],
      "text/plain": [
       "                 id  effectiveTime  active            moduleId  sourceId  \\\n",
       "180029    183776026       20020131       1  900000000000207008  21897009   \n",
       "1631704  2864813020       20180731       0  900000000000207008  21897009   \n",
       "2682144  9215412026       20180731       1  900000000000207008  21897009   \n",
       "\n",
       "         destinationId  relationshipGroup     typeId  characteristicTypeId  \\\n",
       "180029       197480006                  0  116680003    900000000000011006   \n",
       "1631704       48694002                  0  363705008    900000000000011006   \n",
       "2682144      285854004                  0  363714003    900000000000011006   \n",
       "\n",
       "                 modifierId  \n",
       "180029   900000000000451002  \n",
       "1631704  900000000000451002  \n",
       "2682144  900000000000451002  "
      ]
     },
     "execution_count": 17,
     "metadata": {},
     "output_type": "execute_result"
    }
   ],
   "source": [
    "df[df.sourceId == anxiety_code]"
   ]
  },
  {
   "cell_type": "code",
   "execution_count": 18,
   "metadata": {},
   "outputs": [
    {
     "data": {
      "text/html": [
       "<div>\n",
       "<style scoped>\n",
       "    .dataframe tbody tr th:only-of-type {\n",
       "        vertical-align: middle;\n",
       "    }\n",
       "\n",
       "    .dataframe tbody tr th {\n",
       "        vertical-align: top;\n",
       "    }\n",
       "\n",
       "    .dataframe thead th {\n",
       "        text-align: right;\n",
       "    }\n",
       "</style>\n",
       "<table border=\"1\" class=\"dataframe\">\n",
       "  <thead>\n",
       "    <tr style=\"text-align: right;\">\n",
       "      <th></th>\n",
       "      <th>id</th>\n",
       "      <th>effectiveTime</th>\n",
       "      <th>active</th>\n",
       "      <th>moduleId</th>\n",
       "      <th>sourceId</th>\n",
       "      <th>destinationId</th>\n",
       "      <th>relationshipGroup</th>\n",
       "      <th>typeId</th>\n",
       "      <th>characteristicTypeId</th>\n",
       "      <th>modifierId</th>\n",
       "    </tr>\n",
       "  </thead>\n",
       "  <tbody>\n",
       "    <tr>\n",
       "      <th>21038</th>\n",
       "      <td>21286027</td>\n",
       "      <td>20020131</td>\n",
       "      <td>1</td>\n",
       "      <td>900000000000207008</td>\n",
       "      <td>197480006</td>\n",
       "      <td>74732009</td>\n",
       "      <td>0</td>\n",
       "      <td>116680003</td>\n",
       "      <td>900000000000011006</td>\n",
       "      <td>900000000000451002</td>\n",
       "    </tr>\n",
       "    <tr>\n",
       "      <th>1619430</th>\n",
       "      <td>2852539026</td>\n",
       "      <td>20180731</td>\n",
       "      <td>0</td>\n",
       "      <td>900000000000207008</td>\n",
       "      <td>197480006</td>\n",
       "      <td>48694002</td>\n",
       "      <td>0</td>\n",
       "      <td>363705008</td>\n",
       "      <td>900000000000011006</td>\n",
       "      <td>900000000000451002</td>\n",
       "    </tr>\n",
       "    <tr>\n",
       "      <th>2682315</th>\n",
       "      <td>9215592029</td>\n",
       "      <td>20180731</td>\n",
       "      <td>1</td>\n",
       "      <td>900000000000207008</td>\n",
       "      <td>197480006</td>\n",
       "      <td>48694002</td>\n",
       "      <td>0</td>\n",
       "      <td>116680003</td>\n",
       "      <td>900000000000011006</td>\n",
       "      <td>900000000000451002</td>\n",
       "    </tr>\n",
       "    <tr>\n",
       "      <th>2682316</th>\n",
       "      <td>9215593023</td>\n",
       "      <td>20180731</td>\n",
       "      <td>1</td>\n",
       "      <td>900000000000207008</td>\n",
       "      <td>197480006</td>\n",
       "      <td>285854004</td>\n",
       "      <td>0</td>\n",
       "      <td>363714003</td>\n",
       "      <td>900000000000011006</td>\n",
       "      <td>900000000000451002</td>\n",
       "    </tr>\n",
       "  </tbody>\n",
       "</table>\n",
       "</div>"
      ],
      "text/plain": [
       "                 id  effectiveTime  active            moduleId   sourceId  \\\n",
       "21038      21286027       20020131       1  900000000000207008  197480006   \n",
       "1619430  2852539026       20180731       0  900000000000207008  197480006   \n",
       "2682315  9215592029       20180731       1  900000000000207008  197480006   \n",
       "2682316  9215593023       20180731       1  900000000000207008  197480006   \n",
       "\n",
       "         destinationId  relationshipGroup     typeId  characteristicTypeId  \\\n",
       "21038         74732009                  0  116680003    900000000000011006   \n",
       "1619430       48694002                  0  363705008    900000000000011006   \n",
       "2682315       48694002                  0  116680003    900000000000011006   \n",
       "2682316      285854004                  0  363714003    900000000000011006   \n",
       "\n",
       "                 modifierId  \n",
       "21038    900000000000451002  \n",
       "1619430  900000000000451002  \n",
       "2682315  900000000000451002  \n",
       "2682316  900000000000451002  "
      ]
     },
     "execution_count": 18,
     "metadata": {},
     "output_type": "execute_result"
    }
   ],
   "source": [
    "df[df.sourceId == anxiety_parent]"
   ]
  },
  {
   "cell_type": "code",
   "execution_count": 19,
   "metadata": {},
   "outputs": [
    {
     "data": {
      "text/plain": [
       "21897009"
      ]
     },
     "execution_count": 19,
     "metadata": {},
     "output_type": "execute_result"
    }
   ],
   "source": [
    "anxiety_code"
   ]
  },
  {
   "cell_type": "code",
   "execution_count": null,
   "metadata": {
    "collapsed": true
   },
   "outputs": [],
   "source": []
  },
  {
   "cell_type": "code",
   "execution_count": 20,
   "metadata": {},
   "outputs": [
    {
     "name": "stdout",
     "output_type": "stream",
     "text": [
      "Refset/Map/der2_sRefset_SimpleMapSnapshot_INT_20180731.txt\n"
     ]
    },
    {
     "data": {
      "text/plain": [
       "id                       0\n",
       "effectiveTime            0\n",
       "active                   0\n",
       "moduleId                 0\n",
       "refsetId                 0\n",
       "referencedComponentId    1\n",
       "mapTarget                0\n",
       "dtype: int64"
      ]
     },
     "metadata": {},
     "output_type": "display_data"
    },
    {
     "name": "stdout",
     "output_type": "stream",
     "text": [
      "\n",
      "\n",
      "Refset/Map/der2_iisssccRefset_ExtendedMapSnapshot_INT_20180731.txt\n"
     ]
    },
    {
     "data": {
      "text/plain": [
       "id                       0\n",
       "effectiveTime            0\n",
       "active                   0\n",
       "moduleId                 0\n",
       "refsetId                 0\n",
       "referencedComponentId    1\n",
       "mapGroup                 0\n",
       "mapPriority              0\n",
       "mapRule                  0\n",
       "mapAdvice                0\n",
       "mapTarget                0\n",
       "correlationId            0\n",
       "mapCategoryId            0\n",
       "dtype: int64"
      ]
     },
     "metadata": {},
     "output_type": "display_data"
    },
    {
     "name": "stdout",
     "output_type": "stream",
     "text": [
      "\n",
      "\n",
      "Refset/Content/der2_Refset_SimpleSnapshot_INT_20180731.txt\n"
     ]
    },
    {
     "data": {
      "text/plain": [
       "id                       0\n",
       "effectiveTime            0\n",
       "active                   0\n",
       "moduleId                 0\n",
       "refsetId                 0\n",
       "referencedComponentId    0\n",
       "dtype: int64"
      ]
     },
     "metadata": {},
     "output_type": "display_data"
    },
    {
     "name": "stdout",
     "output_type": "stream",
     "text": [
      "\n",
      "\n",
      "Refset/Content/der2_cRefset_AssociationSnapshot_INT_20180731.txt\n"
     ]
    },
    {
     "data": {
      "text/plain": [
       "id                       0\n",
       "effectiveTime            0\n",
       "active                   0\n",
       "moduleId                 0\n",
       "refsetId                 0\n",
       "referencedComponentId    0\n",
       "targetComponentId        2\n",
       "dtype: int64"
      ]
     },
     "metadata": {},
     "output_type": "display_data"
    },
    {
     "name": "stdout",
     "output_type": "stream",
     "text": [
      "\n",
      "\n",
      "Refset/Content/der2_cRefset_AttributeValueSnapshot_INT_20180731.txt\n"
     ]
    },
    {
     "data": {
      "text/plain": [
       "id                       0\n",
       "effectiveTime            0\n",
       "active                   0\n",
       "moduleId                 0\n",
       "refsetId                 0\n",
       "referencedComponentId    0\n",
       "valueId                  0\n",
       "dtype: int64"
      ]
     },
     "metadata": {},
     "output_type": "display_data"
    },
    {
     "name": "stdout",
     "output_type": "stream",
     "text": [
      "\n",
      "\n",
      "Refset/Language/der2_cRefset_LanguageSnapshot-en_INT_20180731.txt\n"
     ]
    },
    {
     "data": {
      "text/plain": [
       "id                       0\n",
       "effectiveTime            0\n",
       "active                   0\n",
       "moduleId                 0\n",
       "refsetId                 0\n",
       "referencedComponentId    0\n",
       "acceptabilityId          0\n",
       "dtype: int64"
      ]
     },
     "metadata": {},
     "output_type": "display_data"
    },
    {
     "name": "stdout",
     "output_type": "stream",
     "text": [
      "\n",
      "\n",
      "Refset/Metadata/der2_cciRefset_RefsetDescriptorSnapshot_INT_20180731.txt\n"
     ]
    },
    {
     "data": {
      "text/plain": [
       "id                       0\n",
       "effectiveTime            0\n",
       "active                   0\n",
       "moduleId                 0\n",
       "refsetId                 0\n",
       "referencedComponentId    0\n",
       "attributeDescription     0\n",
       "attributeType            0\n",
       "attributeOrder           0\n",
       "dtype: int64"
      ]
     },
     "metadata": {},
     "output_type": "display_data"
    },
    {
     "name": "stdout",
     "output_type": "stream",
     "text": [
      "\n",
      "\n",
      "Refset/Metadata/der2_ciRefset_DescriptionTypeSnapshot_INT_20180731.txt\n"
     ]
    },
    {
     "data": {
      "text/plain": [
       "id                       0\n",
       "effectiveTime            0\n",
       "active                   0\n",
       "moduleId                 0\n",
       "refsetId                 0\n",
       "referencedComponentId    0\n",
       "descriptionFormat        0\n",
       "descriptionLength        0\n",
       "dtype: int64"
      ]
     },
     "metadata": {},
     "output_type": "display_data"
    },
    {
     "name": "stdout",
     "output_type": "stream",
     "text": [
      "\n",
      "\n",
      "Refset/Metadata/der2_ssccRefset_MRCMAttributeRangeSnapshot_INT_20180731.txt\n"
     ]
    },
    {
     "data": {
      "text/plain": [
       "id                       0\n",
       "effectiveTime            0\n",
       "active                   0\n",
       "moduleId                 0\n",
       "refsetId                 0\n",
       "referencedComponentId    0\n",
       "rangeConstraint          0\n",
       "attributeRule            0\n",
       "ruleStrengthId           0\n",
       "contentTypeId            0\n",
       "dtype: int64"
      ]
     },
     "metadata": {},
     "output_type": "display_data"
    },
    {
     "name": "stdout",
     "output_type": "stream",
     "text": [
      "\n",
      "\n",
      "Refset/Metadata/der2_ssRefset_ModuleDependencySnapshot_INT_20180731.txt\n"
     ]
    },
    {
     "data": {
      "text/plain": [
       "id                       0\n",
       "effectiveTime            0\n",
       "active                   0\n",
       "moduleId                 0\n",
       "refsetId                 0\n",
       "referencedComponentId    0\n",
       "sourceEffectiveTime      0\n",
       "targetEffectiveTime      0\n",
       "dtype: int64"
      ]
     },
     "metadata": {},
     "output_type": "display_data"
    },
    {
     "name": "stdout",
     "output_type": "stream",
     "text": [
      "\n",
      "\n",
      "Refset/Metadata/der2_cRefset_MRCMModuleScopeSnapshot_INT_20180731.txt\n"
     ]
    },
    {
     "data": {
      "text/plain": [
       "id                       0\n",
       "effectiveTime            0\n",
       "active                   0\n",
       "moduleId                 0\n",
       "refsetId                 0\n",
       "referencedComponentId    0\n",
       "mrcmRuleRefsetId         0\n",
       "dtype: int64"
      ]
     },
     "metadata": {},
     "output_type": "display_data"
    },
    {
     "name": "stdout",
     "output_type": "stream",
     "text": [
      "\n",
      "\n",
      "Refset/Metadata/der2_cissccRefset_MRCMAttributeDomainSnapshot_INT_20180731.txt\n"
     ]
    },
    {
     "data": {
      "text/plain": [
       "id                             0\n",
       "effectiveTime                  0\n",
       "active                         0\n",
       "moduleId                       0\n",
       "refsetId                       0\n",
       "referencedComponentId          0\n",
       "domainId                       0\n",
       "grouped                        0\n",
       "attributeCardinality           0\n",
       "attributeInGroupCardinality    0\n",
       "ruleStrengthId                 0\n",
       "contentTypeId                  0\n",
       "dtype: int64"
      ]
     },
     "metadata": {},
     "output_type": "display_data"
    },
    {
     "name": "stdout",
     "output_type": "stream",
     "text": [
      "\n",
      "\n",
      "Refset/Metadata/der2_sssssssRefset_MRCMDomainSnapshot_INT_20180731.txt\n"
     ]
    },
    {
     "data": {
      "text/plain": [
       "id                                   0\n",
       "effectiveTime                        0\n",
       "active                               0\n",
       "moduleId                             0\n",
       "refsetId                             0\n",
       "referencedComponentId                0\n",
       "domainConstraint                     0\n",
       "parentDomain                         0\n",
       "proximalPrimitiveConstraint          0\n",
       "proximalPrimitiveRefinement          0\n",
       "domainTemplateForPrecoordination     0\n",
       "domainTemplateForPostcoordination    0\n",
       "guideURL                             0\n",
       "dtype: int64"
      ]
     },
     "metadata": {},
     "output_type": "display_data"
    },
    {
     "name": "stdout",
     "output_type": "stream",
     "text": [
      "\n",
      "\n",
      "Terminology/sct2_Description_Snapshot-en_INT_20180731.txt\n"
     ]
    },
    {
     "data": {
      "text/plain": [
       "id                    0\n",
       "effectiveTime         0\n",
       "active                0\n",
       "moduleId              0\n",
       "conceptId             5\n",
       "languageCode          0\n",
       "typeId                0\n",
       "term                  0\n",
       "caseSignificanceId    0\n",
       "dtype: int64"
      ]
     },
     "metadata": {},
     "output_type": "display_data"
    },
    {
     "name": "stdout",
     "output_type": "stream",
     "text": [
      "\n",
      "\n",
      "Terminology/sct2_Identifier_Snapshot_INT_20180731.txt\n"
     ]
    },
    {
     "data": {
      "text/plain": [
       "identifierSchemeId       0\n",
       "alternateIdentifier      0\n",
       "effectiveTime            0\n",
       "active                   0\n",
       "moduleId                 0\n",
       "referencedComponentId    0\n",
       "dtype: int64"
      ]
     },
     "metadata": {},
     "output_type": "display_data"
    },
    {
     "name": "stdout",
     "output_type": "stream",
     "text": [
      "\n",
      "\n",
      "Terminology/sct2_sRefset_OWLOntologySnapshot_INT_20180731.txt\n"
     ]
    },
    {
     "data": {
      "text/plain": [
       "id                       0\n",
       "effectiveTime            0\n",
       "active                   0\n",
       "moduleId                 0\n",
       "refsetId                 0\n",
       "referencedComponentId    0\n",
       "owlExpression            0\n",
       "dtype: int64"
      ]
     },
     "metadata": {},
     "output_type": "display_data"
    },
    {
     "name": "stdout",
     "output_type": "stream",
     "text": [
      "\n",
      "\n",
      "Terminology/sct2_Concept_Snapshot_INT_20180731.txt\n"
     ]
    },
    {
     "data": {
      "text/plain": [
       "id                    1\n",
       "effectiveTime         0\n",
       "active                0\n",
       "moduleId              0\n",
       "definitionStatusId    0\n",
       "dtype: int64"
      ]
     },
     "metadata": {},
     "output_type": "display_data"
    },
    {
     "name": "stdout",
     "output_type": "stream",
     "text": [
      "\n",
      "\n",
      "Terminology/sct2_Relationship_Snapshot_INT_20180731.txt\n"
     ]
    },
    {
     "data": {
      "text/plain": [
       "id                      0\n",
       "effectiveTime           0\n",
       "active                  0\n",
       "moduleId                0\n",
       "sourceId                3\n",
       "destinationId           0\n",
       "relationshipGroup       0\n",
       "typeId                  0\n",
       "characteristicTypeId    0\n",
       "modifierId              0\n",
       "dtype: int64"
      ]
     },
     "metadata": {},
     "output_type": "display_data"
    },
    {
     "name": "stdout",
     "output_type": "stream",
     "text": [
      "\n",
      "\n",
      "Terminology/sct2_TextDefinition_Snapshot-en_INT_20180731.txt\n"
     ]
    },
    {
     "data": {
      "text/plain": [
       "id                    0\n",
       "effectiveTime         0\n",
       "active                0\n",
       "moduleId              0\n",
       "conceptId             0\n",
       "languageCode          0\n",
       "typeId                0\n",
       "term                  0\n",
       "caseSignificanceId    0\n",
       "dtype: int64"
      ]
     },
     "metadata": {},
     "output_type": "display_data"
    },
    {
     "name": "stdout",
     "output_type": "stream",
     "text": [
      "\n",
      "\n",
      "Terminology/sct2_sRefset_OWLAxiomSnapshot_INT_20180731.txt\n"
     ]
    },
    {
     "data": {
      "text/plain": [
       "id                       0\n",
       "effectiveTime            0\n",
       "active                   0\n",
       "moduleId                 0\n",
       "refsetId                 0\n",
       "referencedComponentId    0\n",
       "owlExpression            0\n",
       "dtype: int64"
      ]
     },
     "metadata": {},
     "output_type": "display_data"
    },
    {
     "name": "stdout",
     "output_type": "stream",
     "text": [
      "\n",
      "\n",
      "Terminology/sct2_StatedRelationship_Snapshot_INT_20180731.txt\n"
     ]
    },
    {
     "data": {
      "text/plain": [
       "id                      0\n",
       "effectiveTime           0\n",
       "active                  0\n",
       "moduleId                0\n",
       "sourceId                1\n",
       "destinationId           0\n",
       "relationshipGroup       0\n",
       "typeId                  0\n",
       "characteristicTypeId    0\n",
       "modifierId              0\n",
       "dtype: int64"
      ]
     },
     "metadata": {},
     "output_type": "display_data"
    },
    {
     "name": "stdout",
     "output_type": "stream",
     "text": [
      "\n",
      "\n"
     ]
    }
   ],
   "source": [
    "for filepath in dataframes:\n",
    "    print(filepath)\n",
    "    df = dataframes[filepath]\n",
    "    display((df == anxiety_code).sum())\n",
    "    print('\\n')"
   ]
  },
  {
   "cell_type": "code",
   "execution_count": null,
   "metadata": {
    "collapsed": true
   },
   "outputs": [],
   "source": []
  },
  {
   "cell_type": "code",
   "execution_count": 21,
   "metadata": {},
   "outputs": [
    {
     "data": {
      "text/html": [
       "<div>\n",
       "<style scoped>\n",
       "    .dataframe tbody tr th:only-of-type {\n",
       "        vertical-align: middle;\n",
       "    }\n",
       "\n",
       "    .dataframe tbody tr th {\n",
       "        vertical-align: top;\n",
       "    }\n",
       "\n",
       "    .dataframe thead th {\n",
       "        text-align: right;\n",
       "    }\n",
       "</style>\n",
       "<table border=\"1\" class=\"dataframe\">\n",
       "  <thead>\n",
       "    <tr style=\"text-align: right;\">\n",
       "      <th></th>\n",
       "      <th>id</th>\n",
       "      <th>effectiveTime</th>\n",
       "      <th>active</th>\n",
       "      <th>moduleId</th>\n",
       "      <th>sourceId</th>\n",
       "      <th>destinationId</th>\n",
       "      <th>relationshipGroup</th>\n",
       "      <th>typeId</th>\n",
       "      <th>characteristicTypeId</th>\n",
       "      <th>modifierId</th>\n",
       "    </tr>\n",
       "  </thead>\n",
       "  <tbody>\n",
       "    <tr>\n",
       "      <th>180029</th>\n",
       "      <td>183776026</td>\n",
       "      <td>20020131</td>\n",
       "      <td>1</td>\n",
       "      <td>900000000000207008</td>\n",
       "      <td>21897009</td>\n",
       "      <td>197480006</td>\n",
       "      <td>0</td>\n",
       "      <td>116680003</td>\n",
       "      <td>900000000000011006</td>\n",
       "      <td>900000000000451002</td>\n",
       "    </tr>\n",
       "    <tr>\n",
       "      <th>1631704</th>\n",
       "      <td>2864813020</td>\n",
       "      <td>20180731</td>\n",
       "      <td>0</td>\n",
       "      <td>900000000000207008</td>\n",
       "      <td>21897009</td>\n",
       "      <td>48694002</td>\n",
       "      <td>0</td>\n",
       "      <td>363705008</td>\n",
       "      <td>900000000000011006</td>\n",
       "      <td>900000000000451002</td>\n",
       "    </tr>\n",
       "    <tr>\n",
       "      <th>2682144</th>\n",
       "      <td>9215412026</td>\n",
       "      <td>20180731</td>\n",
       "      <td>1</td>\n",
       "      <td>900000000000207008</td>\n",
       "      <td>21897009</td>\n",
       "      <td>285854004</td>\n",
       "      <td>0</td>\n",
       "      <td>363714003</td>\n",
       "      <td>900000000000011006</td>\n",
       "      <td>900000000000451002</td>\n",
       "    </tr>\n",
       "  </tbody>\n",
       "</table>\n",
       "</div>"
      ],
      "text/plain": [
       "                 id  effectiveTime  active            moduleId  sourceId  \\\n",
       "180029    183776026       20020131       1  900000000000207008  21897009   \n",
       "1631704  2864813020       20180731       0  900000000000207008  21897009   \n",
       "2682144  9215412026       20180731       1  900000000000207008  21897009   \n",
       "\n",
       "         destinationId  relationshipGroup     typeId  characteristicTypeId  \\\n",
       "180029       197480006                  0  116680003    900000000000011006   \n",
       "1631704       48694002                  0  363705008    900000000000011006   \n",
       "2682144      285854004                  0  363714003    900000000000011006   \n",
       "\n",
       "                 modifierId  \n",
       "180029   900000000000451002  \n",
       "1631704  900000000000451002  \n",
       "2682144  900000000000451002  "
      ]
     },
     "execution_count": 21,
     "metadata": {},
     "output_type": "execute_result"
    }
   ],
   "source": [
    "find_matching_rows(dfrel, anxiety_code)"
   ]
  },
  {
   "cell_type": "code",
   "execution_count": null,
   "metadata": {
    "collapsed": true
   },
   "outputs": [],
   "source": []
  }
 ],
 "metadata": {
  "kernelspec": {
   "display_name": "Python 3",
   "language": "python",
   "name": "python3"
  },
  "language_info": {
   "codemirror_mode": {
    "name": "ipython",
    "version": 3
   },
   "file_extension": ".py",
   "mimetype": "text/x-python",
   "name": "python",
   "nbconvert_exporter": "python",
   "pygments_lexer": "ipython3",
   "version": "3.6.6"
  }
 },
 "nbformat": 4,
 "nbformat_minor": 2
}
